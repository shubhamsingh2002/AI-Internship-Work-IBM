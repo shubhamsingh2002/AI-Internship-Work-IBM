{
 "cells": [
  {
   "cell_type": "code",
   "execution_count": 16,
   "id": "325707bb",
   "metadata": {},
   "outputs": [],
   "source": [
    "# Import libraries\n",
    "import numpy as np\n",
    "import pandas as pd\n",
    "import matplotlib.pyplot as plt\n",
    "import seaborn as sns\n",
    "from sklearn.linear_model import LinearRegression\n",
    "from sklearn import metrics\n",
    "\n",
    "# Read the data from the csv file\n",
    "pd.read_csv('practice.csv',header=None).T.to_csv('output.csv',header=False, index=False)\n",
    "df= pd.read_csv('output.csv')\n",
    "\n",
    "\n"
   ]
  },
  {
   "cell_type": "code",
   "execution_count": 17,
   "id": "9df7738d",
   "metadata": {},
   "outputs": [
    {
     "data": {
      "text/html": [
       "<div>\n",
       "<style scoped>\n",
       "    .dataframe tbody tr th:only-of-type {\n",
       "        vertical-align: middle;\n",
       "    }\n",
       "\n",
       "    .dataframe tbody tr th {\n",
       "        vertical-align: top;\n",
       "    }\n",
       "\n",
       "    .dataframe thead th {\n",
       "        text-align: right;\n",
       "    }\n",
       "</style>\n",
       "<table border=\"1\" class=\"dataframe\">\n",
       "  <thead>\n",
       "    <tr style=\"text-align: right;\">\n",
       "      <th></th>\n",
       "      <th>Year</th>\n",
       "      <th>Apple</th>\n",
       "      <th>Mi</th>\n",
       "      <th>Samsung</th>\n",
       "      <th>Nokia</th>\n",
       "      <th>Moto</th>\n",
       "      <th>Vivo</th>\n",
       "      <th>Oppo</th>\n",
       "    </tr>\n",
       "  </thead>\n",
       "  <tbody>\n",
       "    <tr>\n",
       "      <th>0</th>\n",
       "      <td>2016</td>\n",
       "      <td>79918</td>\n",
       "      <td>3315550</td>\n",
       "      <td>9394877</td>\n",
       "      <td>9957350</td>\n",
       "      <td>8811559</td>\n",
       "      <td>3216518</td>\n",
       "      <td>4292105</td>\n",
       "    </tr>\n",
       "    <tr>\n",
       "      <th>1</th>\n",
       "      <td>2017</td>\n",
       "      <td>92956</td>\n",
       "      <td>1409596</td>\n",
       "      <td>6224008</td>\n",
       "      <td>10681674</td>\n",
       "      <td>8960636</td>\n",
       "      <td>1199904</td>\n",
       "      <td>4892096</td>\n",
       "    </tr>\n",
       "    <tr>\n",
       "      <th>2</th>\n",
       "      <td>2018</td>\n",
       "      <td>36311</td>\n",
       "      <td>9277163</td>\n",
       "      <td>2676267</td>\n",
       "      <td>8963409</td>\n",
       "      <td>9256990</td>\n",
       "      <td>6631994</td>\n",
       "      <td>5552392</td>\n",
       "    </tr>\n",
       "    <tr>\n",
       "      <th>3</th>\n",
       "      <td>2019</td>\n",
       "      <td>98601</td>\n",
       "      <td>1660474</td>\n",
       "      <td>10854249</td>\n",
       "      <td>9150408</td>\n",
       "      <td>5709109</td>\n",
       "      <td>7478769</td>\n",
       "      <td>7785292</td>\n",
       "    </tr>\n",
       "    <tr>\n",
       "      <th>4</th>\n",
       "      <td>2020</td>\n",
       "      <td>70320</td>\n",
       "      <td>9992642</td>\n",
       "      <td>9698714</td>\n",
       "      <td>8832315</td>\n",
       "      <td>9261169</td>\n",
       "      <td>6015910</td>\n",
       "      <td>2739808</td>\n",
       "    </tr>\n",
       "  </tbody>\n",
       "</table>\n",
       "</div>"
      ],
      "text/plain": [
       "   Year  Apple       Mi   Samsung     Nokia     Moto     Vivo     Oppo\n",
       "0  2016  79918  3315550   9394877   9957350  8811559  3216518  4292105\n",
       "1  2017  92956  1409596   6224008  10681674  8960636  1199904  4892096\n",
       "2  2018  36311  9277163   2676267   8963409  9256990  6631994  5552392\n",
       "3  2019  98601  1660474  10854249   9150408  5709109  7478769  7785292\n",
       "4  2020  70320  9992642   9698714   8832315  9261169  6015910  2739808"
      ]
     },
     "execution_count": 17,
     "metadata": {},
     "output_type": "execute_result"
    }
   ],
   "source": [
    "# Show first five rows\n",
    "df.rename(columns = {'Brands':'Year'}, inplace = True)\n",
    "df.head()\n"
   ]
  },
  {
   "cell_type": "code",
   "execution_count": 18,
   "id": "507a2942",
   "metadata": {},
   "outputs": [
    {
     "name": "stdout",
     "output_type": "stream",
     "text": [
      "<class 'pandas.core.frame.DataFrame'>\n",
      "RangeIndex: 8 entries, 0 to 7\n",
      "Data columns (total 8 columns):\n",
      " #   Column   Non-Null Count  Dtype\n",
      "---  ------   --------------  -----\n",
      " 0   Year     8 non-null      int64\n",
      " 1   Apple    8 non-null      int64\n",
      " 2   Mi       8 non-null      int64\n",
      " 3   Samsung  8 non-null      int64\n",
      " 4   Nokia    8 non-null      int64\n",
      " 5   Moto     8 non-null      int64\n",
      " 6   Vivo     8 non-null      int64\n",
      " 7   Oppo     8 non-null      int64\n",
      "dtypes: int64(8)\n",
      "memory usage: 644.0 bytes\n"
     ]
    }
   ],
   "source": [
    "df.info()\n"
   ]
  },
  {
   "cell_type": "code",
   "execution_count": 19,
   "id": "83dbdead",
   "metadata": {},
   "outputs": [
    {
     "data": {
      "text/html": [
       "<div>\n",
       "<style scoped>\n",
       "    .dataframe tbody tr th:only-of-type {\n",
       "        vertical-align: middle;\n",
       "    }\n",
       "\n",
       "    .dataframe tbody tr th {\n",
       "        vertical-align: top;\n",
       "    }\n",
       "\n",
       "    .dataframe thead th {\n",
       "        text-align: right;\n",
       "    }\n",
       "</style>\n",
       "<table border=\"1\" class=\"dataframe\">\n",
       "  <thead>\n",
       "    <tr style=\"text-align: right;\">\n",
       "      <th></th>\n",
       "      <th>Year</th>\n",
       "      <th>Apple</th>\n",
       "      <th>Mi</th>\n",
       "      <th>Samsung</th>\n",
       "      <th>Nokia</th>\n",
       "      <th>Moto</th>\n",
       "      <th>Vivo</th>\n",
       "      <th>Oppo</th>\n",
       "    </tr>\n",
       "  </thead>\n",
       "  <tbody>\n",
       "    <tr>\n",
       "      <th>count</th>\n",
       "      <td>8.00000</td>\n",
       "      <td>8.00000</td>\n",
       "      <td>8.000000e+00</td>\n",
       "      <td>8.000000e+00</td>\n",
       "      <td>8.000000e+00</td>\n",
       "      <td>8.000000e+00</td>\n",
       "      <td>8.000000e+00</td>\n",
       "      <td>8.000000e+00</td>\n",
       "    </tr>\n",
       "    <tr>\n",
       "      <th>mean</th>\n",
       "      <td>2019.50000</td>\n",
       "      <td>74925.00000</td>\n",
       "      <td>5.144246e+06</td>\n",
       "      <td>7.831158e+06</td>\n",
       "      <td>8.742564e+06</td>\n",
       "      <td>7.044288e+06</td>\n",
       "      <td>5.732253e+06</td>\n",
       "      <td>5.756764e+06</td>\n",
       "    </tr>\n",
       "    <tr>\n",
       "      <th>std</th>\n",
       "      <td>2.44949</td>\n",
       "      <td>21661.15239</td>\n",
       "      <td>3.512748e+06</td>\n",
       "      <td>3.080156e+06</td>\n",
       "      <td>1.729444e+06</td>\n",
       "      <td>3.648907e+06</td>\n",
       "      <td>2.989154e+06</td>\n",
       "      <td>1.976494e+06</td>\n",
       "    </tr>\n",
       "    <tr>\n",
       "      <th>min</th>\n",
       "      <td>2016.00000</td>\n",
       "      <td>36311.00000</td>\n",
       "      <td>1.409596e+06</td>\n",
       "      <td>2.676267e+06</td>\n",
       "      <td>5.021397e+06</td>\n",
       "      <td>1.095159e+06</td>\n",
       "      <td>1.199904e+06</td>\n",
       "      <td>2.739808e+06</td>\n",
       "    </tr>\n",
       "    <tr>\n",
       "      <th>25%</th>\n",
       "      <td>2017.75000</td>\n",
       "      <td>65555.25000</td>\n",
       "      <td>2.824200e+06</td>\n",
       "      <td>6.068443e+06</td>\n",
       "      <td>8.566030e+06</td>\n",
       "      <td>4.834232e+06</td>\n",
       "      <td>4.019063e+06</td>\n",
       "      <td>4.742098e+06</td>\n",
       "    </tr>\n",
       "    <tr>\n",
       "      <th>50%</th>\n",
       "      <td>2019.50000</td>\n",
       "      <td>78968.50000</td>\n",
       "      <td>3.576648e+06</td>\n",
       "      <td>7.924650e+06</td>\n",
       "      <td>9.056908e+06</td>\n",
       "      <td>8.886098e+06</td>\n",
       "      <td>5.934359e+06</td>\n",
       "      <td>5.388252e+06</td>\n",
       "    </tr>\n",
       "    <tr>\n",
       "      <th>75%</th>\n",
       "      <td>2021.25000</td>\n",
       "      <td>92249.50000</td>\n",
       "      <td>8.655808e+06</td>\n",
       "      <td>9.987598e+06</td>\n",
       "      <td>9.664427e+06</td>\n",
       "      <td>9.258035e+06</td>\n",
       "      <td>6.843688e+06</td>\n",
       "      <td>6.914671e+06</td>\n",
       "    </tr>\n",
       "    <tr>\n",
       "      <th>max</th>\n",
       "      <td>2023.00000</td>\n",
       "      <td>98601.00000</td>\n",
       "      <td>9.992642e+06</td>\n",
       "      <td>1.174498e+07</td>\n",
       "      <td>1.068167e+07</td>\n",
       "      <td>1.105008e+07</td>\n",
       "      <td>1.117554e+07</td>\n",
       "      <td>8.943846e+06</td>\n",
       "    </tr>\n",
       "  </tbody>\n",
       "</table>\n",
       "</div>"
      ],
      "text/plain": [
       "             Year        Apple            Mi       Samsung         Nokia  \\\n",
       "count     8.00000      8.00000  8.000000e+00  8.000000e+00  8.000000e+00   \n",
       "mean   2019.50000  74925.00000  5.144246e+06  7.831158e+06  8.742564e+06   \n",
       "std       2.44949  21661.15239  3.512748e+06  3.080156e+06  1.729444e+06   \n",
       "min    2016.00000  36311.00000  1.409596e+06  2.676267e+06  5.021397e+06   \n",
       "25%    2017.75000  65555.25000  2.824200e+06  6.068443e+06  8.566030e+06   \n",
       "50%    2019.50000  78968.50000  3.576648e+06  7.924650e+06  9.056908e+06   \n",
       "75%    2021.25000  92249.50000  8.655808e+06  9.987598e+06  9.664427e+06   \n",
       "max    2023.00000  98601.00000  9.992642e+06  1.174498e+07  1.068167e+07   \n",
       "\n",
       "               Moto          Vivo          Oppo  \n",
       "count  8.000000e+00  8.000000e+00  8.000000e+00  \n",
       "mean   7.044288e+06  5.732253e+06  5.756764e+06  \n",
       "std    3.648907e+06  2.989154e+06  1.976494e+06  \n",
       "min    1.095159e+06  1.199904e+06  2.739808e+06  \n",
       "25%    4.834232e+06  4.019063e+06  4.742098e+06  \n",
       "50%    8.886098e+06  5.934359e+06  5.388252e+06  \n",
       "75%    9.258035e+06  6.843688e+06  6.914671e+06  \n",
       "max    1.105008e+07  1.117554e+07  8.943846e+06  "
      ]
     },
     "execution_count": 19,
     "metadata": {},
     "output_type": "execute_result"
    }
   ],
   "source": [
    "df.describe()"
   ]
  },
  {
   "cell_type": "code",
   "execution_count": 20,
   "id": "cbf073e8",
   "metadata": {},
   "outputs": [
    {
     "data": {
      "text/plain": [
       "Year       0\n",
       "Apple      0\n",
       "Mi         0\n",
       "Samsung    0\n",
       "Nokia      0\n",
       "Moto       0\n",
       "Vivo       0\n",
       "Oppo       0\n",
       "dtype: int64"
      ]
     },
     "execution_count": 20,
     "metadata": {},
     "output_type": "execute_result"
    }
   ],
   "source": [
    "df.isnull().sum()"
   ]
  },
  {
   "cell_type": "code",
   "execution_count": 21,
   "id": "620a9ca3",
   "metadata": {},
   "outputs": [
    {
     "data": {
      "text/plain": [
       "<Axes: xlabel='Year', ylabel='Vivo'>"
      ]
     },
     "execution_count": 21,
     "metadata": {},
     "output_type": "execute_result"
    },
    {
     "data": {
      "image/png": "[encoded data removed]",
      "text/plain": [
       "<Figure size 640x480 with 1 Axes>"
      ]
     },
     "metadata": {},
     "output_type": "display_data"
    }
   ],
   "source": [
    "sns.lineplot(df,x = 'Year', y= 'Vivo',color = 'blue')\n",
    "sns.scatterplot(df,x = 'Year', y= 'Vivo',color = 'red')"
   ]
  },
  {
   "cell_type": "code",
   "execution_count": 22,
   "id": "82c1ff40",
   "metadata": {},
   "outputs": [
    {
     "data": {
      "text/html": [
       "<style>#sk-container-id-2 {color: black;}#sk-container-id-2 pre{padding: 0;}#sk-container-id-2 div.sk-toggleable {background-color: white;}#sk-container-id-2 label.sk-toggleable__label {cursor: pointer;display: block;width: 100%;margin-bottom: 0;padding: 0.3em;box-sizing: border-box;text-align: center;}#sk-container-id-2 label.sk-toggleable__label-arrow:before {content: \"▸\";float: left;margin-right: 0.25em;color: #696969;}#sk-container-id-2 label.sk-toggleable__label-arrow:hover:before {color: black;}#sk-container-id-2 div.sk-estimator:hover label.sk-toggleable__label-arrow:before {color: black;}#sk-container-id-2 div.sk-toggleable__content {max-height: 0;max-width: 0;overflow: hidden;text-align: left;background-color: #f0f8ff;}#sk-container-id-2 div.sk-toggleable__content pre {margin: 0.2em;color: black;border-radius: 0.25em;background-color: #f0f8ff;}#sk-container-id-2 input.sk-toggleable__control:checked~div.sk-toggleable__content {max-height: 200px;max-width: 100%;overflow: auto;}#sk-container-id-2 input.sk-toggleable__control:checked~label.sk-toggleable__label-arrow:before {content: \"▾\";}#sk-container-id-2 div.sk-estimator input.sk-toggleable__control:checked~label.sk-toggleable__label {background-color: #d4ebff;}#sk-container-id-2 div.sk-label input.sk-toggleable__control:checked~label.sk-toggleable__label {background-color: #d4ebff;}#sk-container-id-2 input.sk-hidden--visually {border: 0;clip: rect(1px 1px 1px 1px);clip: rect(1px, 1px, 1px, 1px);height: 1px;margin: -1px;overflow: hidden;padding: 0;position: absolute;width: 1px;}#sk-container-id-2 div.sk-estimator {font-family: monospace;background-color: #f0f8ff;border: 1px dotted black;border-radius: 0.25em;box-sizing: border-box;margin-bottom: 0.5em;}#sk-container-id-2 div.sk-estimator:hover {background-color: #d4ebff;}#sk-container-id-2 div.sk-parallel-item::after {content: \"\";width: 100%;border-bottom: 1px solid gray;flex-grow: 1;}#sk-container-id-2 div.sk-label:hover label.sk-toggleable__label {background-color: #d4ebff;}#sk-container-id-2 div.sk-serial::before {content: \"\";position: absolute;border-left: 1px solid gray;box-sizing: border-box;top: 0;bottom: 0;left: 50%;z-index: 0;}#sk-container-id-2 div.sk-serial {display: flex;flex-direction: column;align-items: center;background-color: white;padding-right: 0.2em;padding-left: 0.2em;position: relative;}#sk-container-id-2 div.sk-item {position: relative;z-index: 1;}#sk-container-id-2 div.sk-parallel {display: flex;align-items: stretch;justify-content: center;background-color: white;position: relative;}#sk-container-id-2 div.sk-item::before, #sk-container-id-2 div.sk-parallel-item::before {content: \"\";position: absolute;border-left: 1px solid gray;box-sizing: border-box;top: 0;bottom: 0;left: 50%;z-index: -1;}#sk-container-id-2 div.sk-parallel-item {display: flex;flex-direction: column;z-index: 1;position: relative;background-color: white;}#sk-container-id-2 div.sk-parallel-item:first-child::after {align-self: flex-end;width: 50%;}#sk-container-id-2 div.sk-parallel-item:last-child::after {align-self: flex-start;width: 50%;}#sk-container-id-2 div.sk-parallel-item:only-child::after {width: 0;}#sk-container-id-2 div.sk-dashed-wrapped {border: 1px dashed gray;margin: 0 0.4em 0.5em 0.4em;box-sizing: border-box;padding-bottom: 0.4em;background-color: white;}#sk-container-id-2 div.sk-label label {font-family: monospace;font-weight: bold;display: inline-block;line-height: 1.2em;}#sk-container-id-2 div.sk-label-container {text-align: center;}#sk-container-id-2 div.sk-container {/* jupyter's `normalize.less` sets `[hidden] { display: none; }` but bootstrap.min.css set `[hidden] { display: none !important; }` so we also need the `!important` here to be able to override the default hidden behavior on the sphinx rendered scikit-learn.org. See: https://github.com/scikit-learn/scikit-learn/issues/21755 */display: inline-block !important;position: relative;}#sk-container-id-2 div.sk-text-repr-fallback {display: none;}</style><div id=\"sk-container-id-2\" class=\"sk-top-container\"><div class=\"sk-text-repr-fallback\"><pre>LinearRegression()</pre><b>In a Jupyter environment, please rerun this cell to show the HTML representation or trust the notebook. <br />On GitHub, the HTML representation is unable to render, please try loading this page with nbviewer.org.</b></div><div class=\"sk-container\" hidden><div class=\"sk-item\"><div class=\"sk-estimator sk-toggleable\"><input class=\"sk-toggleable__control sk-hidden--visually\" id=\"sk-estimator-id-2\" type=\"checkbox\" checked><label for=\"sk-estimator-id-2\" class=\"sk-toggleable__label sk-toggleable__label-arrow\">LinearRegression</label><div class=\"sk-toggleable__content\"><pre>LinearRegression()</pre></div></div></div></div></div>"
      ],
      "text/plain": [
       "LinearRegression()"
      ]
     },
     "execution_count": 22,
     "metadata": {},
     "output_type": "execute_result"
    }
   ],
   "source": [
    "# Initialize Features\n",
    "X = df.drop(['Vivo', 'Year'], axis = 1)\n",
    "\n",
    "# Initialize Target\n",
    "y = df['Vivo']\n",
    "\n",
    "# Create a model\n",
    "lr = LinearRegression()\n",
    "\n",
    "# Fit the model\n",
    "lr.fit(X, y)\n"
   ]
  },
  {
   "cell_type": "code",
   "execution_count": 23,
   "id": "b2ec530e",
   "metadata": {},
   "outputs": [],
   "source": [
    "\n",
    "# make predictions\n",
    "pred = lr.predict(X)\n"
   ]
  },
  {
   "cell_type": "code",
   "execution_count": 24,
   "id": "bbbd328b",
   "metadata": {},
   "outputs": [
    {
     "name": "stdout",
     "output_type": "stream",
     "text": [
      "Intercept: -12268830.001506053\n"
     ]
    }
   ],
   "source": [
    "# Print intercept\n",
    "print('Intercept:', lr.intercept_)"
   ]
  },
  {
   "cell_type": "code",
   "execution_count": 25,
   "id": "c72bf5c5",
   "metadata": {},
   "outputs": [
    {
     "data": {
      "text/html": [
       "<div>\n",
       "<style scoped>\n",
       "    .dataframe tbody tr th:only-of-type {\n",
       "        vertical-align: middle;\n",
       "    }\n",
       "\n",
       "    .dataframe tbody tr th {\n",
       "        vertical-align: top;\n",
       "    }\n",
       "\n",
       "    .dataframe thead th {\n",
       "        text-align: right;\n",
       "    }\n",
       "</style>\n",
       "<table border=\"1\" class=\"dataframe\">\n",
       "  <thead>\n",
       "    <tr style=\"text-align: right;\">\n",
       "      <th></th>\n",
       "      <th>Coefficient</th>\n",
       "    </tr>\n",
       "  </thead>\n",
       "  <tbody>\n",
       "    <tr>\n",
       "      <th>Apple</th>\n",
       "      <td>12.765787</td>\n",
       "    </tr>\n",
       "    <tr>\n",
       "      <th>Mi</th>\n",
       "      <td>0.673498</td>\n",
       "    </tr>\n",
       "    <tr>\n",
       "      <th>Samsung</th>\n",
       "      <td>0.489161</td>\n",
       "    </tr>\n",
       "    <tr>\n",
       "      <th>Nokia</th>\n",
       "      <td>-0.682422</td>\n",
       "    </tr>\n",
       "    <tr>\n",
       "      <th>Moto</th>\n",
       "      <td>0.753293</td>\n",
       "    </tr>\n",
       "    <tr>\n",
       "      <th>Oppo</th>\n",
       "      <td>1.808130</td>\n",
       "    </tr>\n",
       "  </tbody>\n",
       "</table>\n",
       "</div>"
      ],
      "text/plain": [
       "         Coefficient\n",
       "Apple      12.765787\n",
       "Mi          0.673498\n",
       "Samsung     0.489161\n",
       "Nokia      -0.682422\n",
       "Moto        0.753293\n",
       "Oppo        1.808130"
      ]
     },
     "execution_count": 25,
     "metadata": {},
     "output_type": "execute_result"
    }
   ],
   "source": [
    "# Initialize Coefficient\n",
    "coeff_df = pd.DataFrame(lr.coef_, X.columns,columns=['Coefficient'])\n",
    "coeff_df"
   ]
  },
  {
   "cell_type": "code",
   "execution_count": 26,
   "id": "d536e927",
   "metadata": {},
   "outputs": [
    {
     "name": "stdout",
     "output_type": "stream",
     "text": [
      "Mean Absolute Error: 34347.187853160314\n",
      "Mean Squared Error: 1760453031.1284769\n",
      "Root Mean Squared Error: 41957.752932306525\n",
      "R2: 0.9998874062822416\n"
     ]
    }
   ],
   "source": [
    "print('Mean Absolute Error:', metrics.mean_absolute_error(y, pred))\n",
    "print('Mean Squared Error:', metrics.mean_squared_error(y, pred))\n",
    "print('Root Mean Squared Error:', np.sqrt(metrics.mean_squared_error(y, pred)))\n",
    "print('R2:', np.sqrt(metrics.r2_score(y, pred)))"
   ]
  },
  {
   "cell_type": "code",
   "execution_count": 27,
   "id": "f87dad8d",
   "metadata": {},
   "outputs": [
    {
     "data": {
      "text/plain": [
       "<Axes: xlabel='Year', ylabel='Apple'>"
      ]
     },
     "execution_count": 27,
     "metadata": {},
     "output_type": "execute_result"
    },
    {
     "data": {
      "image/png": "[encoded data removed]",
      "text/plain": [
       "<Figure size 640x480 with 1 Axes>"
      ]
     },
     "metadata": {},
     "output_type": "display_data"
    }
   ],
   "source": [
    "sns.barplot(df,x = 'Year', y= 'Apple',color = 'green')\n",
    "# sns.displot(df,x = 'Year', y= '2016',color = 'green')"
   ]
  },
  {
   "cell_type": "markdown",
   "id": "8908e094",
   "metadata": {},
   "source": [
    "# visualizing the data"
   ]
  },
  {
   "cell_type": "code",
   "execution_count": 30,
   "id": "5b9eb5be",
   "metadata": {},
   "outputs": [
    {
     "data": {
      "image/png": "[encoded data removed]",
      "text/plain": [
       "<Figure size 2000x800 with 1 Axes>"
      ]
     },
     "metadata": {},
     "output_type": "display_data"
    }
   ],
   "source": [
    "plt.figure(figsize=(20,8))\n",
    "\n",
    "plt.subplot(1,2,1)\n",
    "plt.title('Brands Price boxPlot')\n",
    "sns.boxplot(df.Apple)\n",
    "\n",
    "plt.show()"
   ]
  },
  {
   "cell_type": "code",
   "execution_count": null,
   "id": "2deccc40",
   "metadata": {},
   "outputs": [],
   "source": []
  }
 ],
 "metadata": {
  "kernelspec": {
   "display_name": "Python 3 (ipykernel)",
   "language": "python",
   "name": "python3"
  },
  "language_info": {
   "codemirror_mode": {
    "name": "ipython",
    "version": 3
   },
   "file_extension": ".py",
   "mimetype": "text/x-python",
   "name": "python",
   "nbconvert_exporter": "python",
   "pygments_lexer": "ipython3",
   "version": "3.11.4"
  }
 },
 "nbformat": 4,
 "nbformat_minor": 5
}

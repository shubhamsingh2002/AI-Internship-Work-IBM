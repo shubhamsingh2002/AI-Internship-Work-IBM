{
 "cells": [
  {
   "cell_type": "markdown",
   "id": "8adda6e4-dea5-459f-a7a2-c6a4606290d4",
   "metadata": {},
   "source": [
    "1. Simple Calculations \n",
    "\n",
    "Scenario: You have a dataset with product prices and quantities sold. \n",
    "\n",
    "Goal: Calculate the total revenue generated for each product by multiplying price by quantity"
   ]
  },
  {
   "cell_type": "code",
   "execution_count": 1,
   "id": "1d89c4c2-072b-4e39-96b4-80f2b0c0110c",
   "metadata": {},
   "outputs": [],
   "source": [
    "import pandas as pd"
   ]
  },
  {
   "cell_type": "code",
   "execution_count": 3,
   "id": "94e3e416-b851-4422-9092-34fde555d51e",
   "metadata": {},
   "outputs": [],
   "source": [
    "df = pd.read_csv('task1data.csv')"
   ]
  },
  {
   "cell_type": "code",
   "execution_count": 4,
   "id": "592d08f1-d448-4507-bd51-2ee176422cad",
   "metadata": {},
   "outputs": [
    {
     "data": {
      "text/html": [
       "<div>\n",
       "<style scoped>\n",
       "    .dataframe tbody tr th:only-of-type {\n",
       "        vertical-align: middle;\n",
       "    }\n",
       "\n",
       "    .dataframe tbody tr th {\n",
       "        vertical-align: top;\n",
       "    }\n",
       "\n",
       "    .dataframe thead th {\n",
       "        text-align: right;\n",
       "    }\n",
       "</style>\n",
       "<table border=\"1\" class=\"dataframe\">\n",
       "  <thead>\n",
       "    <tr style=\"text-align: right;\">\n",
       "      <th></th>\n",
       "      <th>Product</th>\n",
       "      <th>Price ($)</th>\n",
       "      <th>Quantity Sold</th>\n",
       "    </tr>\n",
       "  </thead>\n",
       "  <tbody>\n",
       "    <tr>\n",
       "      <th>0</th>\n",
       "      <td>Product A</td>\n",
       "      <td>10</td>\n",
       "      <td>100</td>\n",
       "    </tr>\n",
       "    <tr>\n",
       "      <th>1</th>\n",
       "      <td>Product B</td>\n",
       "      <td>20</td>\n",
       "      <td>75</td>\n",
       "    </tr>\n",
       "    <tr>\n",
       "      <th>2</th>\n",
       "      <td>Product C</td>\n",
       "      <td>15</td>\n",
       "      <td>120</td>\n",
       "    </tr>\n",
       "    <tr>\n",
       "      <th>3</th>\n",
       "      <td>Product D</td>\n",
       "      <td>25</td>\n",
       "      <td>50</td>\n",
       "    </tr>\n",
       "    <tr>\n",
       "      <th>4</th>\n",
       "      <td>Product E</td>\n",
       "      <td>30</td>\n",
       "      <td>80</td>\n",
       "    </tr>\n",
       "    <tr>\n",
       "      <th>5</th>\n",
       "      <td>Product F</td>\n",
       "      <td>12</td>\n",
       "      <td>90</td>\n",
       "    </tr>\n",
       "    <tr>\n",
       "      <th>6</th>\n",
       "      <td>Product G</td>\n",
       "      <td>18</td>\n",
       "      <td>110</td>\n",
       "    </tr>\n",
       "    <tr>\n",
       "      <th>7</th>\n",
       "      <td>Product H</td>\n",
       "      <td>22</td>\n",
       "      <td>65</td>\n",
       "    </tr>\n",
       "    <tr>\n",
       "      <th>8</th>\n",
       "      <td>Product I</td>\n",
       "      <td>27</td>\n",
       "      <td>85</td>\n",
       "    </tr>\n",
       "    <tr>\n",
       "      <th>9</th>\n",
       "      <td>Product J</td>\n",
       "      <td>14</td>\n",
       "      <td>95</td>\n",
       "    </tr>\n",
       "  </tbody>\n",
       "</table>\n",
       "</div>"
      ],
      "text/plain": [
       "     Product  Price ($)  Quantity Sold\n",
       "0  Product A         10            100\n",
       "1  Product B         20             75\n",
       "2  Product C         15            120\n",
       "3  Product D         25             50\n",
       "4  Product E         30             80\n",
       "5  Product F         12             90\n",
       "6  Product G         18            110\n",
       "7  Product H         22             65\n",
       "8  Product I         27             85\n",
       "9  Product J         14             95"
      ]
     },
     "execution_count": 4,
     "metadata": {},
     "output_type": "execute_result"
    }
   ],
   "source": [
    "df"
   ]
  },
  {
   "cell_type": "code",
   "execution_count": 10,
   "id": "23fe6870-fefc-4c66-8616-b09c57e54af8",
   "metadata": {},
   "outputs": [],
   "source": [
    "df['Revenue'] = df['Price ($)']*df['Quantity Sold']"
   ]
  },
  {
   "cell_type": "code",
   "execution_count": 11,
   "id": "9406a8a9-b47f-4ed3-91df-cca1109a4b29",
   "metadata": {},
   "outputs": [
    {
     "data": {
      "text/html": [
       "<div>\n",
       "<style scoped>\n",
       "    .dataframe tbody tr th:only-of-type {\n",
       "        vertical-align: middle;\n",
       "    }\n",
       "\n",
       "    .dataframe tbody tr th {\n",
       "        vertical-align: top;\n",
       "    }\n",
       "\n",
       "    .dataframe thead th {\n",
       "        text-align: right;\n",
       "    }\n",
       "</style>\n",
       "<table border=\"1\" class=\"dataframe\">\n",
       "  <thead>\n",
       "    <tr style=\"text-align: right;\">\n",
       "      <th></th>\n",
       "      <th>Product</th>\n",
       "      <th>Price ($)</th>\n",
       "      <th>Quantity Sold</th>\n",
       "      <th>Revenue</th>\n",
       "    </tr>\n",
       "  </thead>\n",
       "  <tbody>\n",
       "    <tr>\n",
       "      <th>0</th>\n",
       "      <td>Product A</td>\n",
       "      <td>10</td>\n",
       "      <td>100</td>\n",
       "      <td>1000</td>\n",
       "    </tr>\n",
       "    <tr>\n",
       "      <th>1</th>\n",
       "      <td>Product B</td>\n",
       "      <td>20</td>\n",
       "      <td>75</td>\n",
       "      <td>1500</td>\n",
       "    </tr>\n",
       "    <tr>\n",
       "      <th>2</th>\n",
       "      <td>Product C</td>\n",
       "      <td>15</td>\n",
       "      <td>120</td>\n",
       "      <td>1800</td>\n",
       "    </tr>\n",
       "    <tr>\n",
       "      <th>3</th>\n",
       "      <td>Product D</td>\n",
       "      <td>25</td>\n",
       "      <td>50</td>\n",
       "      <td>1250</td>\n",
       "    </tr>\n",
       "    <tr>\n",
       "      <th>4</th>\n",
       "      <td>Product E</td>\n",
       "      <td>30</td>\n",
       "      <td>80</td>\n",
       "      <td>2400</td>\n",
       "    </tr>\n",
       "    <tr>\n",
       "      <th>5</th>\n",
       "      <td>Product F</td>\n",
       "      <td>12</td>\n",
       "      <td>90</td>\n",
       "      <td>1080</td>\n",
       "    </tr>\n",
       "    <tr>\n",
       "      <th>6</th>\n",
       "      <td>Product G</td>\n",
       "      <td>18</td>\n",
       "      <td>110</td>\n",
       "      <td>1980</td>\n",
       "    </tr>\n",
       "    <tr>\n",
       "      <th>7</th>\n",
       "      <td>Product H</td>\n",
       "      <td>22</td>\n",
       "      <td>65</td>\n",
       "      <td>1430</td>\n",
       "    </tr>\n",
       "    <tr>\n",
       "      <th>8</th>\n",
       "      <td>Product I</td>\n",
       "      <td>27</td>\n",
       "      <td>85</td>\n",
       "      <td>2295</td>\n",
       "    </tr>\n",
       "    <tr>\n",
       "      <th>9</th>\n",
       "      <td>Product J</td>\n",
       "      <td>14</td>\n",
       "      <td>95</td>\n",
       "      <td>1330</td>\n",
       "    </tr>\n",
       "  </tbody>\n",
       "</table>\n",
       "</div>"
      ],
      "text/plain": [
       "     Product  Price ($)  Quantity Sold  Revenue\n",
       "0  Product A         10            100     1000\n",
       "1  Product B         20             75     1500\n",
       "2  Product C         15            120     1800\n",
       "3  Product D         25             50     1250\n",
       "4  Product E         30             80     2400\n",
       "5  Product F         12             90     1080\n",
       "6  Product G         18            110     1980\n",
       "7  Product H         22             65     1430\n",
       "8  Product I         27             85     2295\n",
       "9  Product J         14             95     1330"
      ]
     },
     "execution_count": 11,
     "metadata": {},
     "output_type": "execute_result"
    }
   ],
   "source": [
    "df"
   ]
  },
  {
   "cell_type": "markdown",
   "id": "1714d3c6-7db5-4d85-9331-1b6276f0487d",
   "metadata": {},
   "source": [
    " 2. Extracting Information from Strings \n",
    "\n",
    "Scenario: You have a list of email addresses. \n",
    "\n",
    "Goal: Extract the username (part before the \"@\" symbol) from each email address."
   ]
  },
  {
   "cell_type": "code",
   "execution_count": 12,
   "id": "693767c8-e85c-4d01-ad25-41a7239e2bb9",
   "metadata": {},
   "outputs": [],
   "source": [
    "email_list = [\n",
    "    \"john.doe@example.com\",\n",
    "    \"jane_smith123@gmail.com\",\n",
    "    \"alex-123@company.org\",\n",
    "    \"samuel42@yahoo.com\",\n",
    "    \"emily.miller@example.net\"\n",
    "]"
   ]
  },
  {
   "cell_type": "code",
   "execution_count": 14,
   "id": "b6cc6d5f-ab84-4698-9915-25f8965f0ba8",
   "metadata": {},
   "outputs": [],
   "source": [
    "usernames = []\n",
    "for i in email_list:\n",
    "    username = i.split('@')[0]\n",
    "    usernames.append(username)\n",
    "    "
   ]
  },
  {
   "cell_type": "code",
   "execution_count": 15,
   "id": "b85001e9-8e3f-4828-ad87-c39134544721",
   "metadata": {},
   "outputs": [
    {
     "name": "stdout",
     "output_type": "stream",
     "text": [
      "john.doe\n",
      "jane_smith123\n",
      "alex-123\n",
      "samuel42\n",
      "emily.miller\n"
     ]
    }
   ],
   "source": [
    "for username in usernames:\n",
    "    print(username)"
   ]
  },
  {
   "cell_type": "markdown",
   "id": "3b0ec207-dcf5-47d7-a8ad-8c0f7b7ee5e4",
   "metadata": {},
   "source": [
    " 3. Simple Conditional Statements \n",
    "\n",
    "Scenario: You have a list of product prices and a discount percentage. \n",
    "\n",
    "Goal: Write code to calculate the final price for each product after applying the discount."
   ]
  },
  {
   "cell_type": "code",
   "execution_count": 16,
   "id": "43ddd46f-5ecd-45ef-a14f-125ee6e11786",
   "metadata": {},
   "outputs": [],
   "source": [
    "product_prices = [20, 30, 15, 25, 10]\n",
    "discount_percentage = 10"
   ]
  },
  {
   "cell_type": "code",
   "execution_count": 18,
   "id": "49d1bab5-6d39-4023-80de-7b9d5b382c81",
   "metadata": {},
   "outputs": [],
   "source": [
    "finalprices = []\n",
    "for price in product_prices:\n",
    "    discount_price = (discount_percentage / 100) * price\n",
    "    final_price = price - discount_price\n",
    "    finalprices.append(final_price)\n",
    "    "
   ]
  },
  {
   "cell_type": "code",
   "execution_count": 19,
   "id": "a3804d16-9818-4adc-bb03-554dbb24285e",
   "metadata": {},
   "outputs": [
    {
     "name": "stdout",
     "output_type": "stream",
     "text": [
      "18.0\n",
      "27.0\n",
      "13.5\n",
      "22.5\n",
      "9.0\n"
     ]
    }
   ],
   "source": [
    "for finalprice in finalprices:\n",
    "    print(finalprice)"
   ]
  },
  {
   "cell_type": "markdown",
   "id": "e1866f89-f4f0-4e25-bad7-248f86f5fc30",
   "metadata": {},
   "source": [
    "4. Sorting Data \n",
    "\n",
    "Scenario: You have a DataFrame containing product information with prices and ratings. \n",
    "\n",
    "Goal: Sort the DataFrame by: \n",
    "\n",
    "Price (ascending order - cheapest to most expensive). \n",
    "\n",
    "Rating (descending order - highest to lowest rating)."
   ]
  },
  {
   "cell_type": "code",
   "execution_count": 20,
   "id": "be383ce3-34ef-4a1c-93e2-221a2a41c698",
   "metadata": {},
   "outputs": [],
   "source": [
    "task4 = pd.read_csv('task4data.csv')"
   ]
  },
  {
   "cell_type": "code",
   "execution_count": 24,
   "id": "27aeda9d-03be-4ac8-b360-9415146cd5e4",
   "metadata": {},
   "outputs": [
    {
     "data": {
      "text/html": [
       "<div>\n",
       "<style scoped>\n",
       "    .dataframe tbody tr th:only-of-type {\n",
       "        vertical-align: middle;\n",
       "    }\n",
       "\n",
       "    .dataframe tbody tr th {\n",
       "        vertical-align: top;\n",
       "    }\n",
       "\n",
       "    .dataframe thead th {\n",
       "        text-align: right;\n",
       "    }\n",
       "</style>\n",
       "<table border=\"1\" class=\"dataframe\">\n",
       "  <thead>\n",
       "    <tr style=\"text-align: right;\">\n",
       "      <th></th>\n",
       "      <th>Product</th>\n",
       "      <th>Price</th>\n",
       "      <th>Rating</th>\n",
       "    </tr>\n",
       "  </thead>\n",
       "  <tbody>\n",
       "    <tr>\n",
       "      <th>0</th>\n",
       "      <td>Laptop</td>\n",
       "      <td>800</td>\n",
       "      <td>4.5</td>\n",
       "    </tr>\n",
       "    <tr>\n",
       "      <th>1</th>\n",
       "      <td>Smartphone</td>\n",
       "      <td>500</td>\n",
       "      <td>4.2</td>\n",
       "    </tr>\n",
       "    <tr>\n",
       "      <th>2</th>\n",
       "      <td>Headphones</td>\n",
       "      <td>100</td>\n",
       "      <td>4.8</td>\n",
       "    </tr>\n",
       "    <tr>\n",
       "      <th>3</th>\n",
       "      <td>Tablet</td>\n",
       "      <td>300</td>\n",
       "      <td>3.9</td>\n",
       "    </tr>\n",
       "    <tr>\n",
       "      <th>4</th>\n",
       "      <td>Smartwatch</td>\n",
       "      <td>250</td>\n",
       "      <td>4.1</td>\n",
       "    </tr>\n",
       "  </tbody>\n",
       "</table>\n",
       "</div>"
      ],
      "text/plain": [
       "      Product  Price  Rating\n",
       "0      Laptop    800     4.5\n",
       "1  Smartphone    500     4.2\n",
       "2  Headphones    100     4.8\n",
       "3      Tablet    300     3.9\n",
       "4  Smartwatch    250     4.1"
      ]
     },
     "execution_count": 24,
     "metadata": {},
     "output_type": "execute_result"
    }
   ],
   "source": [
    " task4"
   ]
  },
  {
   "cell_type": "code",
   "execution_count": 22,
   "id": "61aeb9fe-1f63-4e19-bdfd-4b6b0c3a534b",
   "metadata": {},
   "outputs": [],
   "source": [
    "task4data = pd.DataFrame(task4)"
   ]
  },
  {
   "cell_type": "code",
   "execution_count": 23,
   "id": "002edfce-032e-4c27-a4d6-318812bbd304",
   "metadata": {},
   "outputs": [
    {
     "data": {
      "text/html": [
       "<div>\n",
       "<style scoped>\n",
       "    .dataframe tbody tr th:only-of-type {\n",
       "        vertical-align: middle;\n",
       "    }\n",
       "\n",
       "    .dataframe tbody tr th {\n",
       "        vertical-align: top;\n",
       "    }\n",
       "\n",
       "    .dataframe thead th {\n",
       "        text-align: right;\n",
       "    }\n",
       "</style>\n",
       "<table border=\"1\" class=\"dataframe\">\n",
       "  <thead>\n",
       "    <tr style=\"text-align: right;\">\n",
       "      <th></th>\n",
       "      <th>Product</th>\n",
       "      <th>Price</th>\n",
       "      <th>Rating</th>\n",
       "    </tr>\n",
       "  </thead>\n",
       "  <tbody>\n",
       "    <tr>\n",
       "      <th>0</th>\n",
       "      <td>Laptop</td>\n",
       "      <td>800</td>\n",
       "      <td>4.5</td>\n",
       "    </tr>\n",
       "    <tr>\n",
       "      <th>1</th>\n",
       "      <td>Smartphone</td>\n",
       "      <td>500</td>\n",
       "      <td>4.2</td>\n",
       "    </tr>\n",
       "    <tr>\n",
       "      <th>2</th>\n",
       "      <td>Headphones</td>\n",
       "      <td>100</td>\n",
       "      <td>4.8</td>\n",
       "    </tr>\n",
       "    <tr>\n",
       "      <th>3</th>\n",
       "      <td>Tablet</td>\n",
       "      <td>300</td>\n",
       "      <td>3.9</td>\n",
       "    </tr>\n",
       "    <tr>\n",
       "      <th>4</th>\n",
       "      <td>Smartwatch</td>\n",
       "      <td>250</td>\n",
       "      <td>4.1</td>\n",
       "    </tr>\n",
       "  </tbody>\n",
       "</table>\n",
       "</div>"
      ],
      "text/plain": [
       "      Product  Price  Rating\n",
       "0      Laptop    800     4.5\n",
       "1  Smartphone    500     4.2\n",
       "2  Headphones    100     4.8\n",
       "3      Tablet    300     3.9\n",
       "4  Smartwatch    250     4.1"
      ]
     },
     "execution_count": 23,
     "metadata": {},
     "output_type": "execute_result"
    }
   ],
   "source": [
    "task4data"
   ]
  },
  {
   "cell_type": "code",
   "execution_count": 26,
   "id": "88f9d00c-1d98-461c-b171-afbb47cdf648",
   "metadata": {},
   "outputs": [],
   "source": [
    "sort_by_price = task4data.sort_values(by='Price')"
   ]
  },
  {
   "cell_type": "code",
   "execution_count": 27,
   "id": "c957c3dc-02fe-40f2-92ac-bba7a133ca52",
   "metadata": {},
   "outputs": [
    {
     "data": {
      "text/html": [
       "<div>\n",
       "<style scoped>\n",
       "    .dataframe tbody tr th:only-of-type {\n",
       "        vertical-align: middle;\n",
       "    }\n",
       "\n",
       "    .dataframe tbody tr th {\n",
       "        vertical-align: top;\n",
       "    }\n",
       "\n",
       "    .dataframe thead th {\n",
       "        text-align: right;\n",
       "    }\n",
       "</style>\n",
       "<table border=\"1\" class=\"dataframe\">\n",
       "  <thead>\n",
       "    <tr style=\"text-align: right;\">\n",
       "      <th></th>\n",
       "      <th>Product</th>\n",
       "      <th>Price</th>\n",
       "      <th>Rating</th>\n",
       "    </tr>\n",
       "  </thead>\n",
       "  <tbody>\n",
       "    <tr>\n",
       "      <th>2</th>\n",
       "      <td>Headphones</td>\n",
       "      <td>100</td>\n",
       "      <td>4.8</td>\n",
       "    </tr>\n",
       "    <tr>\n",
       "      <th>4</th>\n",
       "      <td>Smartwatch</td>\n",
       "      <td>250</td>\n",
       "      <td>4.1</td>\n",
       "    </tr>\n",
       "    <tr>\n",
       "      <th>3</th>\n",
       "      <td>Tablet</td>\n",
       "      <td>300</td>\n",
       "      <td>3.9</td>\n",
       "    </tr>\n",
       "    <tr>\n",
       "      <th>1</th>\n",
       "      <td>Smartphone</td>\n",
       "      <td>500</td>\n",
       "      <td>4.2</td>\n",
       "    </tr>\n",
       "    <tr>\n",
       "      <th>0</th>\n",
       "      <td>Laptop</td>\n",
       "      <td>800</td>\n",
       "      <td>4.5</td>\n",
       "    </tr>\n",
       "  </tbody>\n",
       "</table>\n",
       "</div>"
      ],
      "text/plain": [
       "      Product  Price  Rating\n",
       "2  Headphones    100     4.8\n",
       "4  Smartwatch    250     4.1\n",
       "3      Tablet    300     3.9\n",
       "1  Smartphone    500     4.2\n",
       "0      Laptop    800     4.5"
      ]
     },
     "execution_count": 27,
     "metadata": {},
     "output_type": "execute_result"
    }
   ],
   "source": [
    "sort_by_price"
   ]
  },
  {
   "cell_type": "code",
   "execution_count": 31,
   "id": "8357b9e2-e89a-4ff6-80cb-79e2ba018fc7",
   "metadata": {},
   "outputs": [],
   "source": [
    "sort_by_rating = task4data.sort_values(by='Rating',ascending=False)"
   ]
  },
  {
   "cell_type": "code",
   "execution_count": 32,
   "id": "5fb2a24a-e804-44d0-a7e0-e29ca2c98278",
   "metadata": {},
   "outputs": [
    {
     "data": {
      "text/html": [
       "<div>\n",
       "<style scoped>\n",
       "    .dataframe tbody tr th:only-of-type {\n",
       "        vertical-align: middle;\n",
       "    }\n",
       "\n",
       "    .dataframe tbody tr th {\n",
       "        vertical-align: top;\n",
       "    }\n",
       "\n",
       "    .dataframe thead th {\n",
       "        text-align: right;\n",
       "    }\n",
       "</style>\n",
       "<table border=\"1\" class=\"dataframe\">\n",
       "  <thead>\n",
       "    <tr style=\"text-align: right;\">\n",
       "      <th></th>\n",
       "      <th>Product</th>\n",
       "      <th>Price</th>\n",
       "      <th>Rating</th>\n",
       "    </tr>\n",
       "  </thead>\n",
       "  <tbody>\n",
       "    <tr>\n",
       "      <th>2</th>\n",
       "      <td>Headphones</td>\n",
       "      <td>100</td>\n",
       "      <td>4.8</td>\n",
       "    </tr>\n",
       "    <tr>\n",
       "      <th>0</th>\n",
       "      <td>Laptop</td>\n",
       "      <td>800</td>\n",
       "      <td>4.5</td>\n",
       "    </tr>\n",
       "    <tr>\n",
       "      <th>1</th>\n",
       "      <td>Smartphone</td>\n",
       "      <td>500</td>\n",
       "      <td>4.2</td>\n",
       "    </tr>\n",
       "    <tr>\n",
       "      <th>4</th>\n",
       "      <td>Smartwatch</td>\n",
       "      <td>250</td>\n",
       "      <td>4.1</td>\n",
       "    </tr>\n",
       "    <tr>\n",
       "      <th>3</th>\n",
       "      <td>Tablet</td>\n",
       "      <td>300</td>\n",
       "      <td>3.9</td>\n",
       "    </tr>\n",
       "  </tbody>\n",
       "</table>\n",
       "</div>"
      ],
      "text/plain": [
       "      Product  Price  Rating\n",
       "2  Headphones    100     4.8\n",
       "0      Laptop    800     4.5\n",
       "1  Smartphone    500     4.2\n",
       "4  Smartwatch    250     4.1\n",
       "3      Tablet    300     3.9"
      ]
     },
     "execution_count": 32,
     "metadata": {},
     "output_type": "execute_result"
    }
   ],
   "source": [
    "sort_by_rating"
   ]
  },
  {
   "cell_type": "markdown",
   "id": "467b8239-d2ad-46de-8133-89115a3b891c",
   "metadata": {},
   "source": [
    "5.\n",
    "You have a dataset on customer purchases with the following issues: \n",
    "\n",
    "Missing values in the \"price\" column. \n",
    "\n",
    "Inconsistent data types (prices might be strings with a currency symbol). \n",
    "\n",
    "Inconsistent product names (typos or capitalization). \n",
    "\n",
    "Goal: \n",
    "\n",
    "Clean and transform the data using pandas functions."
   ]
  },
  {
   "cell_type": "code",
   "execution_count": 34,
   "id": "3fe3d00d-622a-4137-8f87-917fa3c28fdc",
   "metadata": {},
   "outputs": [],
   "source": [
    "task5 = pd.read_csv('task4data.csv')"
   ]
  },
  {
   "cell_type": "code",
   "execution_count": 35,
   "id": "f787712e-a0a9-4047-8808-4a1f7b509d9c",
   "metadata": {},
   "outputs": [
    {
     "data": {
      "text/html": [
       "<div>\n",
       "<style scoped>\n",
       "    .dataframe tbody tr th:only-of-type {\n",
       "        vertical-align: middle;\n",
       "    }\n",
       "\n",
       "    .dataframe tbody tr th {\n",
       "        vertical-align: top;\n",
       "    }\n",
       "\n",
       "    .dataframe thead th {\n",
       "        text-align: right;\n",
       "    }\n",
       "</style>\n",
       "<table border=\"1\" class=\"dataframe\">\n",
       "  <thead>\n",
       "    <tr style=\"text-align: right;\">\n",
       "      <th></th>\n",
       "      <th>Product</th>\n",
       "      <th>Price</th>\n",
       "      <th>Rating</th>\n",
       "    </tr>\n",
       "  </thead>\n",
       "  <tbody>\n",
       "    <tr>\n",
       "      <th>0</th>\n",
       "      <td>Laptop</td>\n",
       "      <td>800</td>\n",
       "      <td>4.5</td>\n",
       "    </tr>\n",
       "    <tr>\n",
       "      <th>1</th>\n",
       "      <td>Smartphone</td>\n",
       "      <td>500</td>\n",
       "      <td>4.2</td>\n",
       "    </tr>\n",
       "    <tr>\n",
       "      <th>2</th>\n",
       "      <td>Headphones</td>\n",
       "      <td>100</td>\n",
       "      <td>4.8</td>\n",
       "    </tr>\n",
       "    <tr>\n",
       "      <th>3</th>\n",
       "      <td>Tablet</td>\n",
       "      <td>300</td>\n",
       "      <td>3.9</td>\n",
       "    </tr>\n",
       "    <tr>\n",
       "      <th>4</th>\n",
       "      <td>Smartwatch</td>\n",
       "      <td>250</td>\n",
       "      <td>4.1</td>\n",
       "    </tr>\n",
       "  </tbody>\n",
       "</table>\n",
       "</div>"
      ],
      "text/plain": [
       "      Product  Price  Rating\n",
       "0      Laptop    800     4.5\n",
       "1  Smartphone    500     4.2\n",
       "2  Headphones    100     4.8\n",
       "3      Tablet    300     3.9\n",
       "4  Smartwatch    250     4.1"
      ]
     },
     "execution_count": 35,
     "metadata": {},
     "output_type": "execute_result"
    }
   ],
   "source": [
    "task5"
   ]
  },
  {
   "cell_type": "code",
   "execution_count": 56,
   "id": "181c4960-3ba5-4584-83ad-25c20c3ce42e",
   "metadata": {},
   "outputs": [
    {
     "name": "stderr",
     "output_type": "stream",
     "text": [
      "<>:2: SyntaxWarning: invalid escape sequence '\\$'\n",
      "<>:2: SyntaxWarning: invalid escape sequence '\\$'\n",
      "C:\\Users\\SHUBH\\AppData\\Local\\Temp\\ipykernel_15048\\3675690056.py:2: SyntaxWarning: invalid escape sequence '\\$'\n",
      "  task5['Price'] = pd.to_numeric(task5['Price'].str.replace('[\\$,]', '',regex=True), errors='coerce')\n"
     ]
    },
    {
     "ename": "KeyError",
     "evalue": "'Price'",
     "output_type": "error",
     "traceback": [
      "\u001b[1;31m---------------------------------------------------------------------------\u001b[0m",
      "\u001b[1;31mKeyError\u001b[0m                                  Traceback (most recent call last)",
      "File \u001b[1;32m~\\AppData\\Local\\Programs\\Python\\Python312\\Lib\\site-packages\\pandas\\core\\indexes\\base.py:3805\u001b[0m, in \u001b[0;36mIndex.get_loc\u001b[1;34m(self, key)\u001b[0m\n\u001b[0;32m   3804\u001b[0m \u001b[38;5;28;01mtry\u001b[39;00m:\n\u001b[1;32m-> 3805\u001b[0m     \u001b[38;5;28;01mreturn\u001b[39;00m \u001b[38;5;28;43mself\u001b[39;49m\u001b[38;5;241;43m.\u001b[39;49m\u001b[43m_engine\u001b[49m\u001b[38;5;241;43m.\u001b[39;49m\u001b[43mget_loc\u001b[49m\u001b[43m(\u001b[49m\u001b[43mcasted_key\u001b[49m\u001b[43m)\u001b[49m\n\u001b[0;32m   3806\u001b[0m \u001b[38;5;28;01mexcept\u001b[39;00m \u001b[38;5;167;01mKeyError\u001b[39;00m \u001b[38;5;28;01mas\u001b[39;00m err:\n",
      "File \u001b[1;32mindex.pyx:167\u001b[0m, in \u001b[0;36mpandas._libs.index.IndexEngine.get_loc\u001b[1;34m()\u001b[0m\n",
      "File \u001b[1;32mindex.pyx:196\u001b[0m, in \u001b[0;36mpandas._libs.index.IndexEngine.get_loc\u001b[1;34m()\u001b[0m\n",
      "File \u001b[1;32mpandas\\\\_libs\\\\hashtable_class_helper.pxi:7081\u001b[0m, in \u001b[0;36mpandas._libs.hashtable.PyObjectHashTable.get_item\u001b[1;34m()\u001b[0m\n",
      "File \u001b[1;32mpandas\\\\_libs\\\\hashtable_class_helper.pxi:7089\u001b[0m, in \u001b[0;36mpandas._libs.hashtable.PyObjectHashTable.get_item\u001b[1;34m()\u001b[0m\n",
      "\u001b[1;31mKeyError\u001b[0m: 'Price'",
      "\nThe above exception was the direct cause of the following exception:\n",
      "\u001b[1;31mKeyError\u001b[0m                                  Traceback (most recent call last)",
      "Cell \u001b[1;32mIn[56], line 1\u001b[0m\n\u001b[1;32m----> 1\u001b[0m task5[\u001b[38;5;124m'\u001b[39m\u001b[38;5;124mPrice\u001b[39m\u001b[38;5;124m'\u001b[39m] \u001b[38;5;241m=\u001b[39m \u001b[43mtask5\u001b[49m\u001b[43m[\u001b[49m\u001b[38;5;124;43m'\u001b[39;49m\u001b[38;5;124;43mPrice\u001b[39;49m\u001b[38;5;124;43m'\u001b[39;49m\u001b[43m]\u001b[49m\u001b[38;5;241m.\u001b[39mastype(\u001b[38;5;28mstr\u001b[39m)\n\u001b[0;32m      2\u001b[0m task5[\u001b[38;5;124m'\u001b[39m\u001b[38;5;124mPrice\u001b[39m\u001b[38;5;124m'\u001b[39m] \u001b[38;5;241m=\u001b[39m pd\u001b[38;5;241m.\u001b[39mto_numeric(task5[\u001b[38;5;124m'\u001b[39m\u001b[38;5;124mPrice\u001b[39m\u001b[38;5;124m'\u001b[39m]\u001b[38;5;241m.\u001b[39mstr\u001b[38;5;241m.\u001b[39mreplace(\u001b[38;5;124m'\u001b[39m\u001b[38;5;124m[\u001b[39m\u001b[38;5;124m\\\u001b[39m\u001b[38;5;124m$,]\u001b[39m\u001b[38;5;124m'\u001b[39m, \u001b[38;5;124m'\u001b[39m\u001b[38;5;124m'\u001b[39m,regex\u001b[38;5;241m=\u001b[39m\u001b[38;5;28;01mTrue\u001b[39;00m), errors\u001b[38;5;241m=\u001b[39m\u001b[38;5;124m'\u001b[39m\u001b[38;5;124mcoerce\u001b[39m\u001b[38;5;124m'\u001b[39m)\n",
      "File \u001b[1;32m~\\AppData\\Local\\Programs\\Python\\Python312\\Lib\\site-packages\\pandas\\core\\frame.py:4102\u001b[0m, in \u001b[0;36mDataFrame.__getitem__\u001b[1;34m(self, key)\u001b[0m\n\u001b[0;32m   4100\u001b[0m \u001b[38;5;28;01mif\u001b[39;00m \u001b[38;5;28mself\u001b[39m\u001b[38;5;241m.\u001b[39mcolumns\u001b[38;5;241m.\u001b[39mnlevels \u001b[38;5;241m>\u001b[39m \u001b[38;5;241m1\u001b[39m:\n\u001b[0;32m   4101\u001b[0m     \u001b[38;5;28;01mreturn\u001b[39;00m \u001b[38;5;28mself\u001b[39m\u001b[38;5;241m.\u001b[39m_getitem_multilevel(key)\n\u001b[1;32m-> 4102\u001b[0m indexer \u001b[38;5;241m=\u001b[39m \u001b[38;5;28;43mself\u001b[39;49m\u001b[38;5;241;43m.\u001b[39;49m\u001b[43mcolumns\u001b[49m\u001b[38;5;241;43m.\u001b[39;49m\u001b[43mget_loc\u001b[49m\u001b[43m(\u001b[49m\u001b[43mkey\u001b[49m\u001b[43m)\u001b[49m\n\u001b[0;32m   4103\u001b[0m \u001b[38;5;28;01mif\u001b[39;00m is_integer(indexer):\n\u001b[0;32m   4104\u001b[0m     indexer \u001b[38;5;241m=\u001b[39m [indexer]\n",
      "File \u001b[1;32m~\\AppData\\Local\\Programs\\Python\\Python312\\Lib\\site-packages\\pandas\\core\\indexes\\base.py:3812\u001b[0m, in \u001b[0;36mIndex.get_loc\u001b[1;34m(self, key)\u001b[0m\n\u001b[0;32m   3807\u001b[0m     \u001b[38;5;28;01mif\u001b[39;00m \u001b[38;5;28misinstance\u001b[39m(casted_key, \u001b[38;5;28mslice\u001b[39m) \u001b[38;5;129;01mor\u001b[39;00m (\n\u001b[0;32m   3808\u001b[0m         \u001b[38;5;28misinstance\u001b[39m(casted_key, abc\u001b[38;5;241m.\u001b[39mIterable)\n\u001b[0;32m   3809\u001b[0m         \u001b[38;5;129;01mand\u001b[39;00m \u001b[38;5;28many\u001b[39m(\u001b[38;5;28misinstance\u001b[39m(x, \u001b[38;5;28mslice\u001b[39m) \u001b[38;5;28;01mfor\u001b[39;00m x \u001b[38;5;129;01min\u001b[39;00m casted_key)\n\u001b[0;32m   3810\u001b[0m     ):\n\u001b[0;32m   3811\u001b[0m         \u001b[38;5;28;01mraise\u001b[39;00m InvalidIndexError(key)\n\u001b[1;32m-> 3812\u001b[0m     \u001b[38;5;28;01mraise\u001b[39;00m \u001b[38;5;167;01mKeyError\u001b[39;00m(key) \u001b[38;5;28;01mfrom\u001b[39;00m \u001b[38;5;21;01merr\u001b[39;00m\n\u001b[0;32m   3813\u001b[0m \u001b[38;5;28;01mexcept\u001b[39;00m \u001b[38;5;167;01mTypeError\u001b[39;00m:\n\u001b[0;32m   3814\u001b[0m     \u001b[38;5;66;03m# If we have a listlike key, _check_indexing_error will raise\u001b[39;00m\n\u001b[0;32m   3815\u001b[0m     \u001b[38;5;66;03m#  InvalidIndexError. Otherwise we fall through and re-raise\u001b[39;00m\n\u001b[0;32m   3816\u001b[0m     \u001b[38;5;66;03m#  the TypeError.\u001b[39;00m\n\u001b[0;32m   3817\u001b[0m     \u001b[38;5;28mself\u001b[39m\u001b[38;5;241m.\u001b[39m_check_indexing_error(key)\n",
      "\u001b[1;31mKeyError\u001b[0m: 'Price'"
     ]
    }
   ],
   "source": [
    "task5['Price'] = task5['Price'].astype(str)\n",
    "task5['Price'] = pd.to_numeric(task5['Price'].str.replace('[\\$,]', '',regex=True), errors='coerce')\n"
   ]
  },
  {
   "cell_type": "code",
   "execution_count": null,
   "id": "727c4b3e-05cc-40df-bf67-149ff6bb2652",
   "metadata": {},
   "outputs": [],
   "source": []
  }
 ],
 "metadata": {
  "kernelspec": {
   "display_name": "Python 3 (ipykernel)",
   "language": "python",
   "name": "python3"
  },
  "language_info": {
   "codemirror_mode": {
    "name": "ipython",
    "version": 3
   },
   "file_extension": ".py",
   "mimetype": "text/x-python",
   "name": "python",
   "nbconvert_exporter": "python",
   "pygments_lexer": "ipython3",
   "version": "3.12.3"
  }
 },
 "nbformat": 4,
 "nbformat_minor": 5
}
